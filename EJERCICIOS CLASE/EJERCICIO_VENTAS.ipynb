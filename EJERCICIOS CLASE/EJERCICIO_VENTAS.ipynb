{
  "nbformat": 4,
  "nbformat_minor": 0,
  "metadata": {
    "colab": {
      "provenance": [],
      "authorship_tag": "ABX9TyMXNbbchzOZ/kMV0MI2J5BC",
      "include_colab_link": true
    },
    "kernelspec": {
      "name": "python3",
      "display_name": "Python 3"
    },
    "language_info": {
      "name": "python"
    }
  },
  "cells": [
    {
      "cell_type": "markdown",
      "metadata": {
        "id": "view-in-github",
        "colab_type": "text"
      },
      "source": [
        "<a href=\"https://colab.research.google.com/github/claudiaesnarrizaga/UFV-visualizacion/blob/main/EJERCICIOS%20CLASE/EJERCICIO_VENTAS.ipynb\" target=\"_parent\"><img src=\"https://colab.research.google.com/assets/colab-badge.svg\" alt=\"Open In Colab\"/></a>"
      ]
    },
    {
      "cell_type": "markdown",
      "source": [
        "1. Tamaño del dataset\n",
        "2. Nº actuals y forecasts\n",
        "3. Horizonte de predicción (el número de puntos que predices. En este caso es número de meses que predices)\n",
        "4. Número de países y de productos\n",
        "5. Histórico de actuals / forecasts\n",
        "6. Forecasts distintos"
      ],
      "metadata": {
        "id": "1fiCHnugZQv4"
      }
    },
    {
      "cell_type": "code",
      "execution_count": null,
      "metadata": {
        "colab": {
          "base_uri": "https://localhost:8080/",
          "height": 106
        },
        "id": "Qby_XFFvZOiV",
        "outputId": "e796f49c-ba2e-4ae0-88b5-835368889517"
      },
      "outputs": [
        {
          "output_type": "error",
          "ename": "SyntaxError",
          "evalue": "(unicode error) 'unicodeescape' codec can't decode bytes in position 2-3: truncated \\UXXXXXXXX escape (<ipython-input-4-54474f31e3d8>, line 3)",
          "traceback": [
            "\u001b[0;36m  File \u001b[0;32m\"<ipython-input-4-54474f31e3d8>\"\u001b[0;36m, line \u001b[0;32m3\u001b[0m\n\u001b[0;31m    df = pd.read_excel(\"C:\\Users\\claud\\Desktop\\Cla\\UFV\\CUARTO\\PRIMER CUATRI\\Visualización de datos\\Ejercicio ventas\\datos_ejercicio_ventas.xlsx\")\u001b[0m\n\u001b[0m                                                                                                                                                ^\u001b[0m\n\u001b[0;31mSyntaxError\u001b[0m\u001b[0;31m:\u001b[0m (unicode error) 'unicodeescape' codec can't decode bytes in position 2-3: truncated \\UXXXXXXXX escape\n"
          ]
        }
      ],
      "source": [
        "import pandas as pd\n",
        "\n",
        "df = pd.read_excel(\"C:\\Users\\claud\\Desktop\\Cla\\UFV\\CUARTO\\PRIMER CUATRI\\Visualización de datos\\Ejercicio ventas\\datos_ejercicio_ventas.xlsx\")\n"
      ]
    }
  ]
}